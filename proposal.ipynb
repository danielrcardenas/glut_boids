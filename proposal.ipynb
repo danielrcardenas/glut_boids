{
 "metadata": {
  "name": "",
  "signature": "sha256:7a23901a3a49fcc990bc21cde7d6057ad1ca571e699f8316b7c4d94ea8fa532a"
 },
 "nbformat": 3,
 "nbformat_minor": 0,
 "worksheets": [
  {
   "cells": [
    {
     "cell_type": "markdown",
     "metadata": {},
     "source": [
      "COSC3000 Project: Boids Simulation in Fish\n",
      "==========================================\n",
      "Background\n",
      "----------\n",
      "Craig Reynolds first simulated flocking behaviour in 1987 with his program Boids. The word boid is short for \"bird-like object\" or \"bird-oid\". Each individual actor in a flock responds only to its local surroundings, resulting in a visually appealing animation reminiscent of a flock of birds, school of fish or swarm of insects.\n",
      "\n",
      "Boids also gives us an insight into how software experiments can be used as a tool in understanding biological phenomena. If a school of fish can be modelled in such a way that can also include data-based parameters such as ocean currents, temperatures, predators and food availability, scientists could potentially predict migratory patterns of fish.  \n",
      "\n",
      "Implementation\n",
      "----\n",
      "I propose for my project an OpenGL implementation that models the behaviors of a school of fish.  The simulation will be written using Python and PyOpenGL. 2D and 3D views should be implemented, with incremental behavioural features added.  Each individual fish will follow the three boid rules:\n",
      "* Rule 1: Each fish will move towards the centre of mass of neighbouring fish\n",
      "* Rule 2: Fish will try and keep a small distance away from other objects (including other fish).\n",
      "* Rule 3: Fish will try to match velocity with nearby fish.\n",
      "\n",
      "Behaviours can then be added to the fish, such as predator/prey behavior.\n",
      "\n",
      "Initially, a 2D view will be developed.  To add interactivity, the mouse cursor will be used in 2 ways.  When a user moves the mouse over the screen, it will act as a 'predator' in the scene, causing the fish to move away from the cursor.  When clicked, the cursor will turn into 'prey'.  This should cause some interesting animation and add a lot of interactivity to the visualisation.  Ideally the movement should be fluid and reminiscent of fish schooling behaviour.\n",
      "\n",
      "Afterwards, a basic 3D model is proposed - the fish will follow the same rules but within an extra dimension.\n",
      "\n",
      "This project aims to contain the following visualisations:\n",
      "* 2D & 3D Rendering of fish (Simple shapes)\n",
      "* Camera Control (for 3D view)\n",
      "* Basic animation of fish movement\n",
      "* User interactivity (Mouse movement and click)\n",
      "\n",
      "This project will also allow for me to explore texturing and more advanced modelling and animation for the fish,\n",
      "should time permit."
     ]
    },
    {
     "cell_type": "markdown",
     "metadata": {},
     "source": [
      "References\n",
      "----------\n",
      "http://www.red3d.com/cwr/papers/1987/SIGGRAPH87.pdf\n",
      "\n",
      "http://www.ted.com/talks/steven_strogatz_on_sync"
     ]
    },
    {
     "cell_type": "code",
     "collapsed": false,
     "input": [],
     "language": "python",
     "metadata": {},
     "outputs": []
    }
   ],
   "metadata": {}
  }
 ]
}